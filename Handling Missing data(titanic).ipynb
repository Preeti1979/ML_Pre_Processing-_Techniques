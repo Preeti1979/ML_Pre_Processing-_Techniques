{
 "cells": [
  {
   "cell_type": "code",
   "execution_count": 1,
   "id": "ab146d10",
   "metadata": {},
   "outputs": [],
   "source": [
    "import pandas as pd\n",
    "import numpy as np\n",
    "import matplotlib.pyplot as plt\n",
    "import seaborn as sns\n",
    "%matplotlib inline "
   ]
  },
  {
   "cell_type": "markdown",
   "id": "80969159",
   "metadata": {},
   "source": [
    "## Data Preprocessing\n",
    "### Follow step by Step \n",
    "### applicable for all ML Model\n",
    "### check for all dataset"
   ]
  },
  {
   "cell_type": "code",
   "execution_count": 2,
   "id": "abe83b3d",
   "metadata": {},
   "outputs": [],
   "source": [
    "# Part1- Handing Missing Value\n",
    "# part2 - Handling Encoding Data\n",
    "            #- Label Encoder\n",
    "            # - One Hot Encoder\n",
    "            # -Dummy Variable\n",
    "# part3 - Handling Outlier\n",
    "# Part4 - Feature Scaling\n",
    "            #- Normalization \n",
    "            #- Standarisation\n",
    "# Part5 - Handling Imbalance Dataset(applicable only for Classification)\n",
    "    "
   ]
  },
  {
   "cell_type": "code",
   "execution_count": 3,
   "id": "9ae73864",
   "metadata": {},
   "outputs": [],
   "source": [
    "## Handling missing Value \n",
    "# Rule 1: By default if 25% of the data is missing, ignore than variable\n",
    "\n",
    "\n",
    "# Rule 2 : if we have less than 25% data missed\n",
    "    # step 1) check data variable (whether it is number or charactor/object)\n",
    "    \n",
    "    # step 2 ) it that is object/charactor -\n",
    "    # approach  - imputation \n",
    "        # Charactor - \"MODE\" (Most frequent occurance)\n",
    "    \n",
    "    # step 3 - it that data is numeric\n",
    "    # approach - number - first check outlier \n",
    "        # a) if outlier found, we will use \"Median\"\n",
    "        # b) if there is no outlier found, we will use \"Mean\""
   ]
  },
  {
   "cell_type": "code",
   "execution_count": 4,
   "id": "7f7c212d",
   "metadata": {},
   "outputs": [
    {
     "data": {
      "text/plain": [
       "'C:\\\\Users\\\\91994\\\\Documents\\\\Preeti Files\\\\Sundaram ML'"
      ]
     },
     "execution_count": 4,
     "metadata": {},
     "output_type": "execute_result"
    }
   ],
   "source": [
    "import os # os - operating system\n",
    "os.getcwd() # get current working directory"
   ]
  },
  {
   "cell_type": "code",
   "execution_count": 5,
   "id": "541af066",
   "metadata": {},
   "outputs": [],
   "source": [
    "data = pd.read_csv('titanic.csv')"
   ]
  },
  {
   "cell_type": "code",
   "execution_count": 6,
   "id": "efecd526",
   "metadata": {},
   "outputs": [
    {
     "data": {
      "text/html": [
       "<div>\n",
       "<style scoped>\n",
       "    .dataframe tbody tr th:only-of-type {\n",
       "        vertical-align: middle;\n",
       "    }\n",
       "\n",
       "    .dataframe tbody tr th {\n",
       "        vertical-align: top;\n",
       "    }\n",
       "\n",
       "    .dataframe thead th {\n",
       "        text-align: right;\n",
       "    }\n",
       "</style>\n",
       "<table border=\"1\" class=\"dataframe\">\n",
       "  <thead>\n",
       "    <tr style=\"text-align: right;\">\n",
       "      <th></th>\n",
       "      <th>Pclass</th>\n",
       "      <th>Gender</th>\n",
       "      <th>Age</th>\n",
       "      <th>SibSp</th>\n",
       "      <th>ParCh</th>\n",
       "      <th>Fare</th>\n",
       "      <th>Embarked</th>\n",
       "      <th>Status</th>\n",
       "    </tr>\n",
       "  </thead>\n",
       "  <tbody>\n",
       "    <tr>\n",
       "      <th>0</th>\n",
       "      <td>1</td>\n",
       "      <td>Female</td>\n",
       "      <td>29.0</td>\n",
       "      <td>0</td>\n",
       "      <td>0</td>\n",
       "      <td>211.34</td>\n",
       "      <td>Southampton</td>\n",
       "      <td>S</td>\n",
       "    </tr>\n",
       "    <tr>\n",
       "      <th>1</th>\n",
       "      <td>1</td>\n",
       "      <td>Male</td>\n",
       "      <td>0.9</td>\n",
       "      <td>1</td>\n",
       "      <td>2</td>\n",
       "      <td>151.55</td>\n",
       "      <td>Southampton</td>\n",
       "      <td>S</td>\n",
       "    </tr>\n",
       "    <tr>\n",
       "      <th>2</th>\n",
       "      <td>1</td>\n",
       "      <td>Female</td>\n",
       "      <td>2.0</td>\n",
       "      <td>1</td>\n",
       "      <td>2</td>\n",
       "      <td>151.55</td>\n",
       "      <td>Southampton</td>\n",
       "      <td>D</td>\n",
       "    </tr>\n",
       "    <tr>\n",
       "      <th>3</th>\n",
       "      <td>1</td>\n",
       "      <td>Male</td>\n",
       "      <td>30.0</td>\n",
       "      <td>1</td>\n",
       "      <td>2</td>\n",
       "      <td>151.55</td>\n",
       "      <td>Southampton</td>\n",
       "      <td>D</td>\n",
       "    </tr>\n",
       "    <tr>\n",
       "      <th>4</th>\n",
       "      <td>1</td>\n",
       "      <td>Female</td>\n",
       "      <td>25.0</td>\n",
       "      <td>1</td>\n",
       "      <td>2</td>\n",
       "      <td>151.55</td>\n",
       "      <td>Southampton</td>\n",
       "      <td>D</td>\n",
       "    </tr>\n",
       "  </tbody>\n",
       "</table>\n",
       "</div>"
      ],
      "text/plain": [
       "   Pclass  Gender   Age  SibSp  ParCh    Fare     Embarked Status\n",
       "0       1  Female  29.0      0      0  211.34  Southampton      S\n",
       "1       1    Male   0.9      1      2  151.55  Southampton      S\n",
       "2       1  Female   2.0      1      2  151.55  Southampton      D\n",
       "3       1    Male  30.0      1      2  151.55  Southampton      D\n",
       "4       1  Female  25.0      1      2  151.55  Southampton      D"
      ]
     },
     "execution_count": 6,
     "metadata": {},
     "output_type": "execute_result"
    }
   ],
   "source": [
    "data.head()"
   ]
  },
  {
   "cell_type": "code",
   "execution_count": 7,
   "id": "2821231d",
   "metadata": {},
   "outputs": [
    {
     "data": {
      "text/plain": [
       "Pclass      False\n",
       "Gender      False\n",
       "Age          True\n",
       "SibSp       False\n",
       "ParCh       False\n",
       "Fare         True\n",
       "Embarked     True\n",
       "Status      False\n",
       "dtype: bool"
      ]
     },
     "execution_count": 7,
     "metadata": {},
     "output_type": "execute_result"
    }
   ],
   "source": [
    "# check missing value\n",
    "data.isnull().any()"
   ]
  },
  {
   "cell_type": "code",
   "execution_count": 8,
   "id": "201ea485",
   "metadata": {},
   "outputs": [
    {
     "data": {
      "text/plain": [
       "Pclass        0\n",
       "Gender        0\n",
       "Age         263\n",
       "SibSp         0\n",
       "ParCh         0\n",
       "Fare          1\n",
       "Embarked      2\n",
       "Status        0\n",
       "dtype: int64"
      ]
     },
     "execution_count": 8,
     "metadata": {},
     "output_type": "execute_result"
    }
   ],
   "source": [
    "# Checking Missing value \n",
    "data.isnull().sum()"
   ]
  },
  {
   "cell_type": "code",
   "execution_count": 9,
   "id": "99693e6d",
   "metadata": {},
   "outputs": [
    {
     "data": {
      "text/plain": [
       "Pclass       0.000000\n",
       "Gender       0.000000\n",
       "Age         20.091673\n",
       "SibSp        0.000000\n",
       "ParCh        0.000000\n",
       "Fare         0.076394\n",
       "Embarked     0.152788\n",
       "Status       0.000000\n",
       "dtype: float64"
      ]
     },
     "execution_count": 9,
     "metadata": {},
     "output_type": "execute_result"
    }
   ],
   "source": [
    "# Finding missing value percentage\n",
    "data.isnull().sum()/len(data)*100"
   ]
  },
  {
   "cell_type": "code",
   "execution_count": 10,
   "id": "25dc3470",
   "metadata": {},
   "outputs": [
    {
     "name": "stdout",
     "output_type": "stream",
     "text": [
      "<class 'pandas.core.frame.DataFrame'>\n",
      "RangeIndex: 1309 entries, 0 to 1308\n",
      "Data columns (total 8 columns):\n",
      " #   Column    Non-Null Count  Dtype  \n",
      "---  ------    --------------  -----  \n",
      " 0   Pclass    1309 non-null   int64  \n",
      " 1   Gender    1309 non-null   object \n",
      " 2   Age       1046 non-null   float64\n",
      " 3   SibSp     1309 non-null   int64  \n",
      " 4   ParCh     1309 non-null   int64  \n",
      " 5   Fare      1308 non-null   float64\n",
      " 6   Embarked  1307 non-null   object \n",
      " 7   Status    1309 non-null   object \n",
      "dtypes: float64(2), int64(3), object(3)\n",
      "memory usage: 81.9+ KB\n"
     ]
    }
   ],
   "source": [
    "data.info()"
   ]
  },
  {
   "cell_type": "code",
   "execution_count": 11,
   "id": "02e105ad",
   "metadata": {},
   "outputs": [
    {
     "data": {
      "text/html": [
       "<div>\n",
       "<style scoped>\n",
       "    .dataframe tbody tr th:only-of-type {\n",
       "        vertical-align: middle;\n",
       "    }\n",
       "\n",
       "    .dataframe tbody tr th {\n",
       "        vertical-align: top;\n",
       "    }\n",
       "\n",
       "    .dataframe thead th {\n",
       "        text-align: right;\n",
       "    }\n",
       "</style>\n",
       "<table border=\"1\" class=\"dataframe\">\n",
       "  <thead>\n",
       "    <tr style=\"text-align: right;\">\n",
       "      <th></th>\n",
       "      <th>Pclass</th>\n",
       "      <th>Gender</th>\n",
       "      <th>Age</th>\n",
       "      <th>SibSp</th>\n",
       "      <th>ParCh</th>\n",
       "      <th>Fare</th>\n",
       "      <th>Embarked</th>\n",
       "      <th>Status</th>\n",
       "    </tr>\n",
       "  </thead>\n",
       "  <tbody>\n",
       "    <tr>\n",
       "      <th>count</th>\n",
       "      <td>1309.000000</td>\n",
       "      <td>1309</td>\n",
       "      <td>1046.000000</td>\n",
       "      <td>1309.000000</td>\n",
       "      <td>1309.000000</td>\n",
       "      <td>1308.000000</td>\n",
       "      <td>1307</td>\n",
       "      <td>1309</td>\n",
       "    </tr>\n",
       "    <tr>\n",
       "      <th>unique</th>\n",
       "      <td>NaN</td>\n",
       "      <td>2</td>\n",
       "      <td>NaN</td>\n",
       "      <td>NaN</td>\n",
       "      <td>NaN</td>\n",
       "      <td>NaN</td>\n",
       "      <td>3</td>\n",
       "      <td>2</td>\n",
       "    </tr>\n",
       "    <tr>\n",
       "      <th>top</th>\n",
       "      <td>NaN</td>\n",
       "      <td>Male</td>\n",
       "      <td>NaN</td>\n",
       "      <td>NaN</td>\n",
       "      <td>NaN</td>\n",
       "      <td>NaN</td>\n",
       "      <td>Southampton</td>\n",
       "      <td>D</td>\n",
       "    </tr>\n",
       "    <tr>\n",
       "      <th>freq</th>\n",
       "      <td>NaN</td>\n",
       "      <td>843</td>\n",
       "      <td>NaN</td>\n",
       "      <td>NaN</td>\n",
       "      <td>NaN</td>\n",
       "      <td>NaN</td>\n",
       "      <td>914</td>\n",
       "      <td>809</td>\n",
       "    </tr>\n",
       "    <tr>\n",
       "      <th>mean</th>\n",
       "      <td>2.294882</td>\n",
       "      <td>NaN</td>\n",
       "      <td>29.881166</td>\n",
       "      <td>0.498854</td>\n",
       "      <td>0.385027</td>\n",
       "      <td>33.296261</td>\n",
       "      <td>NaN</td>\n",
       "      <td>NaN</td>\n",
       "    </tr>\n",
       "    <tr>\n",
       "      <th>std</th>\n",
       "      <td>0.837836</td>\n",
       "      <td>NaN</td>\n",
       "      <td>14.413435</td>\n",
       "      <td>1.041658</td>\n",
       "      <td>0.865560</td>\n",
       "      <td>51.758691</td>\n",
       "      <td>NaN</td>\n",
       "      <td>NaN</td>\n",
       "    </tr>\n",
       "    <tr>\n",
       "      <th>min</th>\n",
       "      <td>1.000000</td>\n",
       "      <td>NaN</td>\n",
       "      <td>0.200000</td>\n",
       "      <td>0.000000</td>\n",
       "      <td>0.000000</td>\n",
       "      <td>0.000000</td>\n",
       "      <td>NaN</td>\n",
       "      <td>NaN</td>\n",
       "    </tr>\n",
       "    <tr>\n",
       "      <th>25%</th>\n",
       "      <td>2.000000</td>\n",
       "      <td>NaN</td>\n",
       "      <td>21.000000</td>\n",
       "      <td>0.000000</td>\n",
       "      <td>0.000000</td>\n",
       "      <td>7.900000</td>\n",
       "      <td>NaN</td>\n",
       "      <td>NaN</td>\n",
       "    </tr>\n",
       "    <tr>\n",
       "      <th>50%</th>\n",
       "      <td>3.000000</td>\n",
       "      <td>NaN</td>\n",
       "      <td>28.000000</td>\n",
       "      <td>0.000000</td>\n",
       "      <td>0.000000</td>\n",
       "      <td>14.450000</td>\n",
       "      <td>NaN</td>\n",
       "      <td>NaN</td>\n",
       "    </tr>\n",
       "    <tr>\n",
       "      <th>75%</th>\n",
       "      <td>3.000000</td>\n",
       "      <td>NaN</td>\n",
       "      <td>39.000000</td>\n",
       "      <td>1.000000</td>\n",
       "      <td>0.000000</td>\n",
       "      <td>31.280000</td>\n",
       "      <td>NaN</td>\n",
       "      <td>NaN</td>\n",
       "    </tr>\n",
       "    <tr>\n",
       "      <th>max</th>\n",
       "      <td>3.000000</td>\n",
       "      <td>NaN</td>\n",
       "      <td>80.000000</td>\n",
       "      <td>8.000000</td>\n",
       "      <td>9.000000</td>\n",
       "      <td>512.330000</td>\n",
       "      <td>NaN</td>\n",
       "      <td>NaN</td>\n",
       "    </tr>\n",
       "  </tbody>\n",
       "</table>\n",
       "</div>"
      ],
      "text/plain": [
       "             Pclass Gender          Age        SibSp        ParCh  \\\n",
       "count   1309.000000   1309  1046.000000  1309.000000  1309.000000   \n",
       "unique          NaN      2          NaN          NaN          NaN   \n",
       "top             NaN   Male          NaN          NaN          NaN   \n",
       "freq            NaN    843          NaN          NaN          NaN   \n",
       "mean       2.294882    NaN    29.881166     0.498854     0.385027   \n",
       "std        0.837836    NaN    14.413435     1.041658     0.865560   \n",
       "min        1.000000    NaN     0.200000     0.000000     0.000000   \n",
       "25%        2.000000    NaN    21.000000     0.000000     0.000000   \n",
       "50%        3.000000    NaN    28.000000     0.000000     0.000000   \n",
       "75%        3.000000    NaN    39.000000     1.000000     0.000000   \n",
       "max        3.000000    NaN    80.000000     8.000000     9.000000   \n",
       "\n",
       "               Fare     Embarked Status  \n",
       "count   1308.000000         1307   1309  \n",
       "unique          NaN            3      2  \n",
       "top             NaN  Southampton      D  \n",
       "freq            NaN          914    809  \n",
       "mean      33.296261          NaN    NaN  \n",
       "std       51.758691          NaN    NaN  \n",
       "min        0.000000          NaN    NaN  \n",
       "25%        7.900000          NaN    NaN  \n",
       "50%       14.450000          NaN    NaN  \n",
       "75%       31.280000          NaN    NaN  \n",
       "max      512.330000          NaN    NaN  "
      ]
     },
     "execution_count": 11,
     "metadata": {},
     "output_type": "execute_result"
    }
   ],
   "source": [
    "data.describe(include='all')"
   ]
  },
  {
   "cell_type": "code",
   "execution_count": 12,
   "id": "abea5f24",
   "metadata": {},
   "outputs": [],
   "source": [
    "# Age and Fare are Number\n",
    "# Embarked is character"
   ]
  },
  {
   "cell_type": "code",
   "execution_count": 13,
   "id": "5f99720e",
   "metadata": {},
   "outputs": [
    {
     "name": "stderr",
     "output_type": "stream",
     "text": [
      "C:\\ProgramData\\Anaconda3\\lib\\site-packages\\seaborn\\_core.py:1319: UserWarning: Vertical orientation ignored with only `x` specified.\n",
      "  warnings.warn(single_var_warning.format(\"Vertical\", \"x\"))\n"
     ]
    },
    {
     "data": {
      "text/plain": [
       "<AxesSubplot:xlabel='Age'>"
      ]
     },
     "execution_count": 13,
     "metadata": {},
     "output_type": "execute_result"
    },
    {
     "data": {
      "image/png": "[encoded data removed]",
      "text/plain": [
       "<Figure size 432x288 with 1 Axes>"
      ]
     },
     "metadata": {
      "needs_background": "light"
     },
     "output_type": "display_data"
    }
   ],
   "source": [
    "sns.boxplot(x = 'Age', data = data, orient= \"v\")"
   ]
  },
  {
   "cell_type": "code",
   "execution_count": 14,
   "id": "94c4a9eb",
   "metadata": {},
   "outputs": [
    {
     "name": "stderr",
     "output_type": "stream",
     "text": [
      "C:\\ProgramData\\Anaconda3\\lib\\site-packages\\seaborn\\_core.py:1319: UserWarning: Vertical orientation ignored with only `x` specified.\n",
      "  warnings.warn(single_var_warning.format(\"Vertical\", \"x\"))\n"
     ]
    },
    {
     "data": {
      "text/plain": [
       "<AxesSubplot:xlabel='Fare'>"
      ]
     },
     "execution_count": 14,
     "metadata": {},
     "output_type": "execute_result"
    },
    {
     "data": {
      "image/png": "[encoded data removed]",
      "text/plain": [
       "<Figure size 432x288 with 1 Axes>"
      ]
     },
     "metadata": {
      "needs_background": "light"
     },
     "output_type": "display_data"
    }
   ],
   "source": [
    "sns.boxplot(x = 'Fare', data = data, orient= \"v\")"
   ]
  },
  {
   "cell_type": "code",
   "execution_count": 15,
   "id": "ab27c761",
   "metadata": {},
   "outputs": [],
   "source": [
    "# Age - outlier present - use median\n",
    "# Fare - outlier present - use median"
   ]
  },
  {
   "cell_type": "code",
   "execution_count": 16,
   "id": "c77c8da8",
   "metadata": {},
   "outputs": [],
   "source": [
    "data['Age'] = data['Age'].fillna(data['Age'].median())"
   ]
  },
  {
   "cell_type": "code",
   "execution_count": 17,
   "id": "4f203a6a",
   "metadata": {},
   "outputs": [],
   "source": [
    "data['Fare'] = data['Fare'].fillna(data['Fare'].median())"
   ]
  },
  {
   "cell_type": "code",
   "execution_count": 18,
   "id": "bd657687",
   "metadata": {},
   "outputs": [],
   "source": [
    "# Embarked is character- we will use mode to impute"
   ]
  },
  {
   "cell_type": "code",
   "execution_count": 19,
   "id": "96223104",
   "metadata": {},
   "outputs": [],
   "source": [
    "data['Embarked'] = data['Embarked'].fillna('Southampton')"
   ]
  },
  {
   "cell_type": "code",
   "execution_count": 20,
   "id": "76b70ba4",
   "metadata": {},
   "outputs": [
    {
     "data": {
      "text/plain": [
       "Pclass      0\n",
       "Gender      0\n",
       "Age         0\n",
       "SibSp       0\n",
       "ParCh       0\n",
       "Fare        0\n",
       "Embarked    0\n",
       "Status      0\n",
       "dtype: int64"
      ]
     },
     "execution_count": 20,
     "metadata": {},
     "output_type": "execute_result"
    }
   ],
   "source": [
    "data.isnull().sum()"
   ]
  },
  {
   "cell_type": "code",
   "execution_count": 21,
   "id": "76fcfdaa",
   "metadata": {},
   "outputs": [
    {
     "data": {
      "text/plain": [
       "Southampton    916\n",
       "Cherbourg      270\n",
       "Queenstown     123\n",
       "Name: Embarked, dtype: int64"
      ]
     },
     "execution_count": 21,
     "metadata": {},
     "output_type": "execute_result"
    }
   ],
   "source": [
    "data['Embarked'].value_counts()"
   ]
  },
  {
   "cell_type": "code",
   "execution_count": 22,
   "id": "03896de5",
   "metadata": {},
   "outputs": [
    {
     "name": "stdout",
     "output_type": "stream",
     "text": [
      "<class 'pandas.core.frame.DataFrame'>\n",
      "RangeIndex: 1309 entries, 0 to 1308\n",
      "Data columns (total 8 columns):\n",
      " #   Column    Non-Null Count  Dtype  \n",
      "---  ------    --------------  -----  \n",
      " 0   Pclass    1309 non-null   int64  \n",
      " 1   Gender    1309 non-null   object \n",
      " 2   Age       1309 non-null   float64\n",
      " 3   SibSp     1309 non-null   int64  \n",
      " 4   ParCh     1309 non-null   int64  \n",
      " 5   Fare      1309 non-null   float64\n",
      " 6   Embarked  1309 non-null   object \n",
      " 7   Status    1309 non-null   object \n",
      "dtypes: float64(2), int64(3), object(3)\n",
      "memory usage: 81.9+ KB\n"
     ]
    }
   ],
   "source": [
    "data.info()"
   ]
  },
  {
   "cell_type": "code",
   "execution_count": 23,
   "id": "28b5ef31",
   "metadata": {},
   "outputs": [],
   "source": [
    "data['Gender'] = data['Gender'].astype('category')\n",
    "data['Gender'] = data['Gender'].cat.codes\n",
    "data = pd.get_dummies(data, columns = ['Gender']) # mention only column name in list "
   ]
  },
  {
   "cell_type": "code",
   "execution_count": 24,
   "id": "bdf6f20b",
   "metadata": {},
   "outputs": [],
   "source": [
    "data['Embarked'] = data['Embarked'].astype('category')\n",
    "data['Embarked'] = data['Embarked'].cat.codes\n",
    "data = pd.get_dummies(data, columns = ['Embarked']) # mention only column name in list "
   ]
  },
  {
   "cell_type": "code",
   "execution_count": 25,
   "id": "0bc9180a",
   "metadata": {},
   "outputs": [],
   "source": [
    "data['Status'] = data['Status'].astype('category')\n",
    "data['Status'] = data['Status'].cat.codes\n",
    "data = pd.get_dummies(data, columns = ['Status'])# mention only column name in list "
   ]
  },
  {
   "cell_type": "code",
   "execution_count": 26,
   "id": "e1a7ccd5",
   "metadata": {},
   "outputs": [
    {
     "data": {
      "text/html": [
       "<div>\n",
       "<style scoped>\n",
       "    .dataframe tbody tr th:only-of-type {\n",
       "        vertical-align: middle;\n",
       "    }\n",
       "\n",
       "    .dataframe tbody tr th {\n",
       "        vertical-align: top;\n",
       "    }\n",
       "\n",
       "    .dataframe thead th {\n",
       "        text-align: right;\n",
       "    }\n",
       "</style>\n",
       "<table border=\"1\" class=\"dataframe\">\n",
       "  <thead>\n",
       "    <tr style=\"text-align: right;\">\n",
       "      <th></th>\n",
       "      <th>Pclass</th>\n",
       "      <th>Age</th>\n",
       "      <th>SibSp</th>\n",
       "      <th>ParCh</th>\n",
       "      <th>Fare</th>\n",
       "      <th>Gender_0</th>\n",
       "      <th>Gender_1</th>\n",
       "      <th>Embarked_0</th>\n",
       "      <th>Embarked_1</th>\n",
       "      <th>Embarked_2</th>\n",
       "      <th>Status_0</th>\n",
       "      <th>Status_1</th>\n",
       "    </tr>\n",
       "  </thead>\n",
       "  <tbody>\n",
       "    <tr>\n",
       "      <th>0</th>\n",
       "      <td>1</td>\n",
       "      <td>29.0</td>\n",
       "      <td>0</td>\n",
       "      <td>0</td>\n",
       "      <td>211.34</td>\n",
       "      <td>1</td>\n",
       "      <td>0</td>\n",
       "      <td>0</td>\n",
       "      <td>0</td>\n",
       "      <td>1</td>\n",
       "      <td>0</td>\n",
       "      <td>1</td>\n",
       "    </tr>\n",
       "    <tr>\n",
       "      <th>1</th>\n",
       "      <td>1</td>\n",
       "      <td>0.9</td>\n",
       "      <td>1</td>\n",
       "      <td>2</td>\n",
       "      <td>151.55</td>\n",
       "      <td>0</td>\n",
       "      <td>1</td>\n",
       "      <td>0</td>\n",
       "      <td>0</td>\n",
       "      <td>1</td>\n",
       "      <td>0</td>\n",
       "      <td>1</td>\n",
       "    </tr>\n",
       "    <tr>\n",
       "      <th>2</th>\n",
       "      <td>1</td>\n",
       "      <td>2.0</td>\n",
       "      <td>1</td>\n",
       "      <td>2</td>\n",
       "      <td>151.55</td>\n",
       "      <td>1</td>\n",
       "      <td>0</td>\n",
       "      <td>0</td>\n",
       "      <td>0</td>\n",
       "      <td>1</td>\n",
       "      <td>1</td>\n",
       "      <td>0</td>\n",
       "    </tr>\n",
       "    <tr>\n",
       "      <th>3</th>\n",
       "      <td>1</td>\n",
       "      <td>30.0</td>\n",
       "      <td>1</td>\n",
       "      <td>2</td>\n",
       "      <td>151.55</td>\n",
       "      <td>0</td>\n",
       "      <td>1</td>\n",
       "      <td>0</td>\n",
       "      <td>0</td>\n",
       "      <td>1</td>\n",
       "      <td>1</td>\n",
       "      <td>0</td>\n",
       "    </tr>\n",
       "    <tr>\n",
       "      <th>4</th>\n",
       "      <td>1</td>\n",
       "      <td>25.0</td>\n",
       "      <td>1</td>\n",
       "      <td>2</td>\n",
       "      <td>151.55</td>\n",
       "      <td>1</td>\n",
       "      <td>0</td>\n",
       "      <td>0</td>\n",
       "      <td>0</td>\n",
       "      <td>1</td>\n",
       "      <td>1</td>\n",
       "      <td>0</td>\n",
       "    </tr>\n",
       "    <tr>\n",
       "      <th>...</th>\n",
       "      <td>...</td>\n",
       "      <td>...</td>\n",
       "      <td>...</td>\n",
       "      <td>...</td>\n",
       "      <td>...</td>\n",
       "      <td>...</td>\n",
       "      <td>...</td>\n",
       "      <td>...</td>\n",
       "      <td>...</td>\n",
       "      <td>...</td>\n",
       "      <td>...</td>\n",
       "      <td>...</td>\n",
       "    </tr>\n",
       "    <tr>\n",
       "      <th>1304</th>\n",
       "      <td>3</td>\n",
       "      <td>14.5</td>\n",
       "      <td>1</td>\n",
       "      <td>0</td>\n",
       "      <td>14.45</td>\n",
       "      <td>1</td>\n",
       "      <td>0</td>\n",
       "      <td>1</td>\n",
       "      <td>0</td>\n",
       "      <td>0</td>\n",
       "      <td>1</td>\n",
       "      <td>0</td>\n",
       "    </tr>\n",
       "    <tr>\n",
       "      <th>1305</th>\n",
       "      <td>3</td>\n",
       "      <td>28.0</td>\n",
       "      <td>1</td>\n",
       "      <td>0</td>\n",
       "      <td>14.45</td>\n",
       "      <td>1</td>\n",
       "      <td>0</td>\n",
       "      <td>1</td>\n",
       "      <td>0</td>\n",
       "      <td>0</td>\n",
       "      <td>1</td>\n",
       "      <td>0</td>\n",
       "    </tr>\n",
       "    <tr>\n",
       "      <th>1306</th>\n",
       "      <td>3</td>\n",
       "      <td>26.5</td>\n",
       "      <td>0</td>\n",
       "      <td>0</td>\n",
       "      <td>7.23</td>\n",
       "      <td>0</td>\n",
       "      <td>1</td>\n",
       "      <td>1</td>\n",
       "      <td>0</td>\n",
       "      <td>0</td>\n",
       "      <td>1</td>\n",
       "      <td>0</td>\n",
       "    </tr>\n",
       "    <tr>\n",
       "      <th>1307</th>\n",
       "      <td>3</td>\n",
       "      <td>27.0</td>\n",
       "      <td>0</td>\n",
       "      <td>0</td>\n",
       "      <td>7.23</td>\n",
       "      <td>0</td>\n",
       "      <td>1</td>\n",
       "      <td>1</td>\n",
       "      <td>0</td>\n",
       "      <td>0</td>\n",
       "      <td>1</td>\n",
       "      <td>0</td>\n",
       "    </tr>\n",
       "    <tr>\n",
       "      <th>1308</th>\n",
       "      <td>3</td>\n",
       "      <td>29.0</td>\n",
       "      <td>0</td>\n",
       "      <td>0</td>\n",
       "      <td>7.88</td>\n",
       "      <td>0</td>\n",
       "      <td>1</td>\n",
       "      <td>0</td>\n",
       "      <td>0</td>\n",
       "      <td>1</td>\n",
       "      <td>1</td>\n",
       "      <td>0</td>\n",
       "    </tr>\n",
       "  </tbody>\n",
       "</table>\n",
       "<p>1309 rows × 12 columns</p>\n",
       "</div>"
      ],
      "text/plain": [
       "      Pclass   Age  SibSp  ParCh    Fare  Gender_0  Gender_1  Embarked_0  \\\n",
       "0          1  29.0      0      0  211.34         1         0           0   \n",
       "1          1   0.9      1      2  151.55         0         1           0   \n",
       "2          1   2.0      1      2  151.55         1         0           0   \n",
       "3          1  30.0      1      2  151.55         0         1           0   \n",
       "4          1  25.0      1      2  151.55         1         0           0   \n",
       "...      ...   ...    ...    ...     ...       ...       ...         ...   \n",
       "1304       3  14.5      1      0   14.45         1         0           1   \n",
       "1305       3  28.0      1      0   14.45         1         0           1   \n",
       "1306       3  26.5      0      0    7.23         0         1           1   \n",
       "1307       3  27.0      0      0    7.23         0         1           1   \n",
       "1308       3  29.0      0      0    7.88         0         1           0   \n",
       "\n",
       "      Embarked_1  Embarked_2  Status_0  Status_1  \n",
       "0              0           1         0         1  \n",
       "1              0           1         0         1  \n",
       "2              0           1         1         0  \n",
       "3              0           1         1         0  \n",
       "4              0           1         1         0  \n",
       "...          ...         ...       ...       ...  \n",
       "1304           0           0         1         0  \n",
       "1305           0           0         1         0  \n",
       "1306           0           0         1         0  \n",
       "1307           0           0         1         0  \n",
       "1308           0           1         1         0  \n",
       "\n",
       "[1309 rows x 12 columns]"
      ]
     },
     "execution_count": 26,
     "metadata": {},
     "output_type": "execute_result"
    }
   ],
   "source": [
    "data"
   ]
  },
  {
   "cell_type": "code",
   "execution_count": 39,
   "id": "0472e099",
   "metadata": {},
   "outputs": [],
   "source": [
    "data = data.drop(columns = ['Gender_0','Embarked_0','Status_0' ], axis = 1)"
   ]
  },
  {
   "cell_type": "code",
   "execution_count": 40,
   "id": "1a432cd9",
   "metadata": {},
   "outputs": [
    {
     "data": {
      "text/html": [
       "<div>\n",
       "<style scoped>\n",
       "    .dataframe tbody tr th:only-of-type {\n",
       "        vertical-align: middle;\n",
       "    }\n",
       "\n",
       "    .dataframe tbody tr th {\n",
       "        vertical-align: top;\n",
       "    }\n",
       "\n",
       "    .dataframe thead th {\n",
       "        text-align: right;\n",
       "    }\n",
       "</style>\n",
       "<table border=\"1\" class=\"dataframe\">\n",
       "  <thead>\n",
       "    <tr style=\"text-align: right;\">\n",
       "      <th></th>\n",
       "      <th>Pclass</th>\n",
       "      <th>Age</th>\n",
       "      <th>SibSp</th>\n",
       "      <th>ParCh</th>\n",
       "      <th>Fare</th>\n",
       "      <th>Gender_1</th>\n",
       "      <th>Embarked_1</th>\n",
       "      <th>Embarked_2</th>\n",
       "      <th>Status_1</th>\n",
       "    </tr>\n",
       "  </thead>\n",
       "  <tbody>\n",
       "    <tr>\n",
       "      <th>0</th>\n",
       "      <td>1</td>\n",
       "      <td>29.0</td>\n",
       "      <td>0</td>\n",
       "      <td>0</td>\n",
       "      <td>211.34</td>\n",
       "      <td>0</td>\n",
       "      <td>0</td>\n",
       "      <td>1</td>\n",
       "      <td>1</td>\n",
       "    </tr>\n",
       "    <tr>\n",
       "      <th>1</th>\n",
       "      <td>1</td>\n",
       "      <td>0.9</td>\n",
       "      <td>1</td>\n",
       "      <td>2</td>\n",
       "      <td>151.55</td>\n",
       "      <td>1</td>\n",
       "      <td>0</td>\n",
       "      <td>1</td>\n",
       "      <td>1</td>\n",
       "    </tr>\n",
       "    <tr>\n",
       "      <th>2</th>\n",
       "      <td>1</td>\n",
       "      <td>2.0</td>\n",
       "      <td>1</td>\n",
       "      <td>2</td>\n",
       "      <td>151.55</td>\n",
       "      <td>0</td>\n",
       "      <td>0</td>\n",
       "      <td>1</td>\n",
       "      <td>0</td>\n",
       "    </tr>\n",
       "    <tr>\n",
       "      <th>3</th>\n",
       "      <td>1</td>\n",
       "      <td>30.0</td>\n",
       "      <td>1</td>\n",
       "      <td>2</td>\n",
       "      <td>151.55</td>\n",
       "      <td>1</td>\n",
       "      <td>0</td>\n",
       "      <td>1</td>\n",
       "      <td>0</td>\n",
       "    </tr>\n",
       "    <tr>\n",
       "      <th>4</th>\n",
       "      <td>1</td>\n",
       "      <td>25.0</td>\n",
       "      <td>1</td>\n",
       "      <td>2</td>\n",
       "      <td>151.55</td>\n",
       "      <td>0</td>\n",
       "      <td>0</td>\n",
       "      <td>1</td>\n",
       "      <td>0</td>\n",
       "    </tr>\n",
       "    <tr>\n",
       "      <th>...</th>\n",
       "      <td>...</td>\n",
       "      <td>...</td>\n",
       "      <td>...</td>\n",
       "      <td>...</td>\n",
       "      <td>...</td>\n",
       "      <td>...</td>\n",
       "      <td>...</td>\n",
       "      <td>...</td>\n",
       "      <td>...</td>\n",
       "    </tr>\n",
       "    <tr>\n",
       "      <th>1304</th>\n",
       "      <td>3</td>\n",
       "      <td>14.5</td>\n",
       "      <td>1</td>\n",
       "      <td>0</td>\n",
       "      <td>14.45</td>\n",
       "      <td>0</td>\n",
       "      <td>0</td>\n",
       "      <td>0</td>\n",
       "      <td>0</td>\n",
       "    </tr>\n",
       "    <tr>\n",
       "      <th>1305</th>\n",
       "      <td>3</td>\n",
       "      <td>28.0</td>\n",
       "      <td>1</td>\n",
       "      <td>0</td>\n",
       "      <td>14.45</td>\n",
       "      <td>0</td>\n",
       "      <td>0</td>\n",
       "      <td>0</td>\n",
       "      <td>0</td>\n",
       "    </tr>\n",
       "    <tr>\n",
       "      <th>1306</th>\n",
       "      <td>3</td>\n",
       "      <td>26.5</td>\n",
       "      <td>0</td>\n",
       "      <td>0</td>\n",
       "      <td>7.23</td>\n",
       "      <td>1</td>\n",
       "      <td>0</td>\n",
       "      <td>0</td>\n",
       "      <td>0</td>\n",
       "    </tr>\n",
       "    <tr>\n",
       "      <th>1307</th>\n",
       "      <td>3</td>\n",
       "      <td>27.0</td>\n",
       "      <td>0</td>\n",
       "      <td>0</td>\n",
       "      <td>7.23</td>\n",
       "      <td>1</td>\n",
       "      <td>0</td>\n",
       "      <td>0</td>\n",
       "      <td>0</td>\n",
       "    </tr>\n",
       "    <tr>\n",
       "      <th>1308</th>\n",
       "      <td>3</td>\n",
       "      <td>29.0</td>\n",
       "      <td>0</td>\n",
       "      <td>0</td>\n",
       "      <td>7.88</td>\n",
       "      <td>1</td>\n",
       "      <td>0</td>\n",
       "      <td>1</td>\n",
       "      <td>0</td>\n",
       "    </tr>\n",
       "  </tbody>\n",
       "</table>\n",
       "<p>1309 rows × 9 columns</p>\n",
       "</div>"
      ],
      "text/plain": [
       "      Pclass   Age  SibSp  ParCh    Fare  Gender_1  Embarked_1  Embarked_2  \\\n",
       "0          1  29.0      0      0  211.34         0           0           1   \n",
       "1          1   0.9      1      2  151.55         1           0           1   \n",
       "2          1   2.0      1      2  151.55         0           0           1   \n",
       "3          1  30.0      1      2  151.55         1           0           1   \n",
       "4          1  25.0      1      2  151.55         0           0           1   \n",
       "...      ...   ...    ...    ...     ...       ...         ...         ...   \n",
       "1304       3  14.5      1      0   14.45         0           0           0   \n",
       "1305       3  28.0      1      0   14.45         0           0           0   \n",
       "1306       3  26.5      0      0    7.23         1           0           0   \n",
       "1307       3  27.0      0      0    7.23         1           0           0   \n",
       "1308       3  29.0      0      0    7.88         1           0           1   \n",
       "\n",
       "      Status_1  \n",
       "0            1  \n",
       "1            1  \n",
       "2            0  \n",
       "3            0  \n",
       "4            0  \n",
       "...        ...  \n",
       "1304         0  \n",
       "1305         0  \n",
       "1306         0  \n",
       "1307         0  \n",
       "1308         0  \n",
       "\n",
       "[1309 rows x 9 columns]"
      ]
     },
     "execution_count": 40,
     "metadata": {},
     "output_type": "execute_result"
    }
   ],
   "source": [
    "data"
   ]
  },
  {
   "cell_type": "code",
   "execution_count": 41,
   "id": "b4218591",
   "metadata": {},
   "outputs": [],
   "source": [
    "data_fs = data.values  # Convering data in array to apply matematical operations"
   ]
  },
  {
   "cell_type": "code",
   "execution_count": 42,
   "id": "e848639c",
   "metadata": {},
   "outputs": [
    {
     "data": {
      "text/plain": [
       "array([[ 1. , 29. ,  0. , ...,  0. ,  1. ,  1. ],\n",
       "       [ 1. ,  0.9,  1. , ...,  0. ,  1. ,  1. ],\n",
       "       [ 1. ,  2. ,  1. , ...,  0. ,  1. ,  0. ],\n",
       "       ...,\n",
       "       [ 3. , 26.5,  0. , ...,  0. ,  0. ,  0. ],\n",
       "       [ 3. , 27. ,  0. , ...,  0. ,  0. ,  0. ],\n",
       "       [ 3. , 29. ,  0. , ...,  0. ,  1. ,  0. ]])"
      ]
     },
     "execution_count": 42,
     "metadata": {},
     "output_type": "execute_result"
    }
   ],
   "source": [
    "data_fs"
   ]
  },
  {
   "cell_type": "code",
   "execution_count": null,
   "id": "92dfc692",
   "metadata": {},
   "outputs": [],
   "source": [
    "# Standardisation"
   ]
  },
  {
   "cell_type": "code",
   "execution_count": 44,
   "id": "1edf33b9",
   "metadata": {},
   "outputs": [],
   "source": [
    "from sklearn.preprocessing import StandardScaler"
   ]
  },
  {
   "cell_type": "code",
   "execution_count": 45,
   "id": "a0af8f41",
   "metadata": {},
   "outputs": [],
   "source": [
    "sc = StandardScaler()"
   ]
  },
  {
   "cell_type": "code",
   "execution_count": 46,
   "id": "02497cc8",
   "metadata": {},
   "outputs": [],
   "source": [
    "data_fs_std = sc.fit_transform(data_fs)"
   ]
  },
  {
   "cell_type": "code",
   "execution_count": 47,
   "id": "f98ed7e1",
   "metadata": {},
   "outputs": [
    {
     "data": {
      "text/plain": [
       "array([[-1.54609786, -0.03900763, -0.47908676, ..., -0.32204029,\n",
       "         0.65501092,  1.27200629],\n",
       "       [-1.54609786, -2.21725853,  0.48128777, ..., -0.32204029,\n",
       "         0.65501092,  1.27200629],\n",
       "       [-1.54609786, -2.13198892,  0.48128777, ..., -0.32204029,\n",
       "         0.65501092, -0.78615963],\n",
       "       ...,\n",
       "       [ 0.84191642, -0.2328022 , -0.47908676, ..., -0.32204029,\n",
       "        -1.52669211, -0.78615963],\n",
       "       [ 0.84191642, -0.19404328, -0.47908676, ..., -0.32204029,\n",
       "        -1.52669211, -0.78615963],\n",
       "       [ 0.84191642, -0.03900763, -0.47908676, ..., -0.32204029,\n",
       "         0.65501092, -0.78615963]])"
      ]
     },
     "execution_count": 47,
     "metadata": {},
     "output_type": "execute_result"
    }
   ],
   "source": [
    "data_fs_std"
   ]
  },
  {
   "cell_type": "code",
   "execution_count": 56,
   "id": "03045d21",
   "metadata": {},
   "outputs": [
    {
     "data": {
      "text/html": [
       "<div>\n",
       "<style scoped>\n",
       "    .dataframe tbody tr th:only-of-type {\n",
       "        vertical-align: middle;\n",
       "    }\n",
       "\n",
       "    .dataframe tbody tr th {\n",
       "        vertical-align: top;\n",
       "    }\n",
       "\n",
       "    .dataframe thead th {\n",
       "        text-align: right;\n",
       "    }\n",
       "</style>\n",
       "<table border=\"1\" class=\"dataframe\">\n",
       "  <thead>\n",
       "    <tr style=\"text-align: right;\">\n",
       "      <th></th>\n",
       "      <th>0</th>\n",
       "      <th>1</th>\n",
       "      <th>2</th>\n",
       "      <th>3</th>\n",
       "      <th>4</th>\n",
       "      <th>5</th>\n",
       "      <th>6</th>\n",
       "      <th>7</th>\n",
       "      <th>8</th>\n",
       "    </tr>\n",
       "  </thead>\n",
       "  <tbody>\n",
       "    <tr>\n",
       "      <th>0</th>\n",
       "      <td>-1.546098</td>\n",
       "      <td>-0.039008</td>\n",
       "      <td>-0.479087</td>\n",
       "      <td>-0.445000</td>\n",
       "      <td>3.442616</td>\n",
       "      <td>-1.344995</td>\n",
       "      <td>-0.32204</td>\n",
       "      <td>0.655011</td>\n",
       "      <td>1.272006</td>\n",
       "    </tr>\n",
       "    <tr>\n",
       "      <th>1</th>\n",
       "      <td>-1.546098</td>\n",
       "      <td>-2.217259</td>\n",
       "      <td>0.481288</td>\n",
       "      <td>1.866526</td>\n",
       "      <td>2.286623</td>\n",
       "      <td>0.743497</td>\n",
       "      <td>-0.32204</td>\n",
       "      <td>0.655011</td>\n",
       "      <td>1.272006</td>\n",
       "    </tr>\n",
       "    <tr>\n",
       "      <th>2</th>\n",
       "      <td>-1.546098</td>\n",
       "      <td>-2.131989</td>\n",
       "      <td>0.481288</td>\n",
       "      <td>1.866526</td>\n",
       "      <td>2.286623</td>\n",
       "      <td>-1.344995</td>\n",
       "      <td>-0.32204</td>\n",
       "      <td>0.655011</td>\n",
       "      <td>-0.786160</td>\n",
       "    </tr>\n",
       "    <tr>\n",
       "      <th>3</th>\n",
       "      <td>-1.546098</td>\n",
       "      <td>0.038510</td>\n",
       "      <td>0.481288</td>\n",
       "      <td>1.866526</td>\n",
       "      <td>2.286623</td>\n",
       "      <td>0.743497</td>\n",
       "      <td>-0.32204</td>\n",
       "      <td>0.655011</td>\n",
       "      <td>-0.786160</td>\n",
       "    </tr>\n",
       "    <tr>\n",
       "      <th>4</th>\n",
       "      <td>-1.546098</td>\n",
       "      <td>-0.349079</td>\n",
       "      <td>0.481288</td>\n",
       "      <td>1.866526</td>\n",
       "      <td>2.286623</td>\n",
       "      <td>-1.344995</td>\n",
       "      <td>-0.32204</td>\n",
       "      <td>0.655011</td>\n",
       "      <td>-0.786160</td>\n",
       "    </tr>\n",
       "    <tr>\n",
       "      <th>...</th>\n",
       "      <td>...</td>\n",
       "      <td>...</td>\n",
       "      <td>...</td>\n",
       "      <td>...</td>\n",
       "      <td>...</td>\n",
       "      <td>...</td>\n",
       "      <td>...</td>\n",
       "      <td>...</td>\n",
       "      <td>...</td>\n",
       "    </tr>\n",
       "    <tr>\n",
       "      <th>1304</th>\n",
       "      <td>0.841916</td>\n",
       "      <td>-1.163016</td>\n",
       "      <td>0.481288</td>\n",
       "      <td>-0.445000</td>\n",
       "      <td>-0.364099</td>\n",
       "      <td>-1.344995</td>\n",
       "      <td>-0.32204</td>\n",
       "      <td>-1.526692</td>\n",
       "      <td>-0.786160</td>\n",
       "    </tr>\n",
       "    <tr>\n",
       "      <th>1305</th>\n",
       "      <td>0.841916</td>\n",
       "      <td>-0.116525</td>\n",
       "      <td>0.481288</td>\n",
       "      <td>-0.445000</td>\n",
       "      <td>-0.364099</td>\n",
       "      <td>-1.344995</td>\n",
       "      <td>-0.32204</td>\n",
       "      <td>-1.526692</td>\n",
       "      <td>-0.786160</td>\n",
       "    </tr>\n",
       "    <tr>\n",
       "      <th>1306</th>\n",
       "      <td>0.841916</td>\n",
       "      <td>-0.232802</td>\n",
       "      <td>-0.479087</td>\n",
       "      <td>-0.445000</td>\n",
       "      <td>-0.503693</td>\n",
       "      <td>0.743497</td>\n",
       "      <td>-0.32204</td>\n",
       "      <td>-1.526692</td>\n",
       "      <td>-0.786160</td>\n",
       "    </tr>\n",
       "    <tr>\n",
       "      <th>1307</th>\n",
       "      <td>0.841916</td>\n",
       "      <td>-0.194043</td>\n",
       "      <td>-0.479087</td>\n",
       "      <td>-0.445000</td>\n",
       "      <td>-0.503693</td>\n",
       "      <td>0.743497</td>\n",
       "      <td>-0.32204</td>\n",
       "      <td>-1.526692</td>\n",
       "      <td>-0.786160</td>\n",
       "    </tr>\n",
       "    <tr>\n",
       "      <th>1308</th>\n",
       "      <td>0.841916</td>\n",
       "      <td>-0.039008</td>\n",
       "      <td>-0.479087</td>\n",
       "      <td>-0.445000</td>\n",
       "      <td>-0.491125</td>\n",
       "      <td>0.743497</td>\n",
       "      <td>-0.32204</td>\n",
       "      <td>0.655011</td>\n",
       "      <td>-0.786160</td>\n",
       "    </tr>\n",
       "  </tbody>\n",
       "</table>\n",
       "<p>1309 rows × 9 columns</p>\n",
       "</div>"
      ],
      "text/plain": [
       "             0         1         2         3         4         5        6  \\\n",
       "0    -1.546098 -0.039008 -0.479087 -0.445000  3.442616 -1.344995 -0.32204   \n",
       "1    -1.546098 -2.217259  0.481288  1.866526  2.286623  0.743497 -0.32204   \n",
       "2    -1.546098 -2.131989  0.481288  1.866526  2.286623 -1.344995 -0.32204   \n",
       "3    -1.546098  0.038510  0.481288  1.866526  2.286623  0.743497 -0.32204   \n",
       "4    -1.546098 -0.349079  0.481288  1.866526  2.286623 -1.344995 -0.32204   \n",
       "...        ...       ...       ...       ...       ...       ...      ...   \n",
       "1304  0.841916 -1.163016  0.481288 -0.445000 -0.364099 -1.344995 -0.32204   \n",
       "1305  0.841916 -0.116525  0.481288 -0.445000 -0.364099 -1.344995 -0.32204   \n",
       "1306  0.841916 -0.232802 -0.479087 -0.445000 -0.503693  0.743497 -0.32204   \n",
       "1307  0.841916 -0.194043 -0.479087 -0.445000 -0.503693  0.743497 -0.32204   \n",
       "1308  0.841916 -0.039008 -0.479087 -0.445000 -0.491125  0.743497 -0.32204   \n",
       "\n",
       "             7         8  \n",
       "0     0.655011  1.272006  \n",
       "1     0.655011  1.272006  \n",
       "2     0.655011 -0.786160  \n",
       "3     0.655011 -0.786160  \n",
       "4     0.655011 -0.786160  \n",
       "...        ...       ...  \n",
       "1304 -1.526692 -0.786160  \n",
       "1305 -1.526692 -0.786160  \n",
       "1306 -1.526692 -0.786160  \n",
       "1307 -1.526692 -0.786160  \n",
       "1308  0.655011 -0.786160  \n",
       "\n",
       "[1309 rows x 9 columns]"
      ]
     },
     "execution_count": 56,
     "metadata": {},
     "output_type": "execute_result"
    }
   ],
   "source": [
    "pd.DataFrame(data_fs_std)"
   ]
  },
  {
   "cell_type": "code",
   "execution_count": null,
   "id": "4d875700",
   "metadata": {},
   "outputs": [],
   "source": [
    "# Normalisation"
   ]
  },
  {
   "cell_type": "code",
   "execution_count": 49,
   "id": "8f027564",
   "metadata": {},
   "outputs": [
    {
     "data": {
      "text/plain": [
       "array([[ 1. , 29. ,  0. , ...,  0. ,  1. ,  1. ],\n",
       "       [ 1. ,  0.9,  1. , ...,  0. ,  1. ,  1. ],\n",
       "       [ 1. ,  2. ,  1. , ...,  0. ,  1. ,  0. ],\n",
       "       ...,\n",
       "       [ 3. , 26.5,  0. , ...,  0. ,  0. ,  0. ],\n",
       "       [ 3. , 27. ,  0. , ...,  0. ,  0. ,  0. ],\n",
       "       [ 3. , 29. ,  0. , ...,  0. ,  1. ,  0. ]])"
      ]
     },
     "execution_count": 49,
     "metadata": {},
     "output_type": "execute_result"
    }
   ],
   "source": [
    "data_nr = data.values\n",
    "data_nr"
   ]
  },
  {
   "cell_type": "code",
   "execution_count": 51,
   "id": "9f2e147e",
   "metadata": {},
   "outputs": [],
   "source": [
    "from sklearn.preprocessing import Normalizer"
   ]
  },
  {
   "cell_type": "code",
   "execution_count": 52,
   "id": "f6117eca",
   "metadata": {},
   "outputs": [],
   "source": [
    "nr =  Normalizer()"
   ]
  },
  {
   "cell_type": "code",
   "execution_count": 53,
   "id": "086bc8cb",
   "metadata": {},
   "outputs": [],
   "source": [
    "data_fs_nr =nr.fit_transform(data_fs)"
   ]
  },
  {
   "cell_type": "code",
   "execution_count": 54,
   "id": "bb54cdd4",
   "metadata": {},
   "outputs": [
    {
     "data": {
      "text/plain": [
       "array([[0.00468763, 0.13594126, 0.        , ..., 0.        , 0.00468763,\n",
       "        0.00468763],\n",
       "       [0.00659707, 0.00593737, 0.00659707, ..., 0.        , 0.00659707,\n",
       "        0.00659707],\n",
       "       [0.0065969 , 0.01319381, 0.0065969 , ..., 0.        , 0.0065969 ,\n",
       "        0.        ],\n",
       "       ...,\n",
       "       [0.10849907, 0.95840843, 0.        , ..., 0.        , 0.        ,\n",
       "        0.        ],\n",
       "       [0.10664932, 0.95984392, 0.        , ..., 0.        , 0.        ,\n",
       "        0.        ],\n",
       "       [0.09922606, 0.95918521, 0.        , ..., 0.        , 0.03307535,\n",
       "        0.        ]])"
      ]
     },
     "execution_count": 54,
     "metadata": {},
     "output_type": "execute_result"
    }
   ],
   "source": [
    "data_fs_nr"
   ]
  },
  {
   "cell_type": "code",
   "execution_count": 55,
   "id": "43628d1d",
   "metadata": {},
   "outputs": [
    {
     "data": {
      "text/html": [
       "<div>\n",
       "<style scoped>\n",
       "    .dataframe tbody tr th:only-of-type {\n",
       "        vertical-align: middle;\n",
       "    }\n",
       "\n",
       "    .dataframe tbody tr th {\n",
       "        vertical-align: top;\n",
       "    }\n",
       "\n",
       "    .dataframe thead th {\n",
       "        text-align: right;\n",
       "    }\n",
       "</style>\n",
       "<table border=\"1\" class=\"dataframe\">\n",
       "  <thead>\n",
       "    <tr style=\"text-align: right;\">\n",
       "      <th></th>\n",
       "      <th>0</th>\n",
       "      <th>1</th>\n",
       "      <th>2</th>\n",
       "      <th>3</th>\n",
       "      <th>4</th>\n",
       "      <th>5</th>\n",
       "      <th>6</th>\n",
       "      <th>7</th>\n",
       "      <th>8</th>\n",
       "    </tr>\n",
       "  </thead>\n",
       "  <tbody>\n",
       "    <tr>\n",
       "      <th>0</th>\n",
       "      <td>0.004688</td>\n",
       "      <td>0.135941</td>\n",
       "      <td>0.000000</td>\n",
       "      <td>0.000000</td>\n",
       "      <td>0.990684</td>\n",
       "      <td>0.000000</td>\n",
       "      <td>0.0</td>\n",
       "      <td>0.004688</td>\n",
       "      <td>0.004688</td>\n",
       "    </tr>\n",
       "    <tr>\n",
       "      <th>1</th>\n",
       "      <td>0.006597</td>\n",
       "      <td>0.005937</td>\n",
       "      <td>0.006597</td>\n",
       "      <td>0.013194</td>\n",
       "      <td>0.999787</td>\n",
       "      <td>0.006597</td>\n",
       "      <td>0.0</td>\n",
       "      <td>0.006597</td>\n",
       "      <td>0.006597</td>\n",
       "    </tr>\n",
       "    <tr>\n",
       "      <th>2</th>\n",
       "      <td>0.006597</td>\n",
       "      <td>0.013194</td>\n",
       "      <td>0.006597</td>\n",
       "      <td>0.013194</td>\n",
       "      <td>0.999761</td>\n",
       "      <td>0.000000</td>\n",
       "      <td>0.0</td>\n",
       "      <td>0.006597</td>\n",
       "      <td>0.000000</td>\n",
       "    </tr>\n",
       "    <tr>\n",
       "      <th>3</th>\n",
       "      <td>0.006472</td>\n",
       "      <td>0.194154</td>\n",
       "      <td>0.006472</td>\n",
       "      <td>0.012944</td>\n",
       "      <td>0.980800</td>\n",
       "      <td>0.006472</td>\n",
       "      <td>0.0</td>\n",
       "      <td>0.006472</td>\n",
       "      <td>0.000000</td>\n",
       "    </tr>\n",
       "    <tr>\n",
       "      <th>4</th>\n",
       "      <td>0.006510</td>\n",
       "      <td>0.162738</td>\n",
       "      <td>0.006510</td>\n",
       "      <td>0.013019</td>\n",
       "      <td>0.986519</td>\n",
       "      <td>0.000000</td>\n",
       "      <td>0.0</td>\n",
       "      <td>0.006510</td>\n",
       "      <td>0.000000</td>\n",
       "    </tr>\n",
       "    <tr>\n",
       "      <th>...</th>\n",
       "      <td>...</td>\n",
       "      <td>...</td>\n",
       "      <td>...</td>\n",
       "      <td>...</td>\n",
       "      <td>...</td>\n",
       "      <td>...</td>\n",
       "      <td>...</td>\n",
       "      <td>...</td>\n",
       "      <td>...</td>\n",
       "    </tr>\n",
       "    <tr>\n",
       "      <th>1304</th>\n",
       "      <td>0.144833</td>\n",
       "      <td>0.700024</td>\n",
       "      <td>0.048278</td>\n",
       "      <td>0.000000</td>\n",
       "      <td>0.697610</td>\n",
       "      <td>0.000000</td>\n",
       "      <td>0.0</td>\n",
       "      <td>0.000000</td>\n",
       "      <td>0.000000</td>\n",
       "    </tr>\n",
       "    <tr>\n",
       "      <th>1305</th>\n",
       "      <td>0.094736</td>\n",
       "      <td>0.884200</td>\n",
       "      <td>0.031579</td>\n",
       "      <td>0.000000</td>\n",
       "      <td>0.456310</td>\n",
       "      <td>0.000000</td>\n",
       "      <td>0.0</td>\n",
       "      <td>0.000000</td>\n",
       "      <td>0.000000</td>\n",
       "    </tr>\n",
       "    <tr>\n",
       "      <th>1306</th>\n",
       "      <td>0.108499</td>\n",
       "      <td>0.958408</td>\n",
       "      <td>0.000000</td>\n",
       "      <td>0.000000</td>\n",
       "      <td>0.261483</td>\n",
       "      <td>0.036166</td>\n",
       "      <td>0.0</td>\n",
       "      <td>0.000000</td>\n",
       "      <td>0.000000</td>\n",
       "    </tr>\n",
       "    <tr>\n",
       "      <th>1307</th>\n",
       "      <td>0.106649</td>\n",
       "      <td>0.959844</td>\n",
       "      <td>0.000000</td>\n",
       "      <td>0.000000</td>\n",
       "      <td>0.257025</td>\n",
       "      <td>0.035550</td>\n",
       "      <td>0.0</td>\n",
       "      <td>0.000000</td>\n",
       "      <td>0.000000</td>\n",
       "    </tr>\n",
       "    <tr>\n",
       "      <th>1308</th>\n",
       "      <td>0.099226</td>\n",
       "      <td>0.959185</td>\n",
       "      <td>0.000000</td>\n",
       "      <td>0.000000</td>\n",
       "      <td>0.260634</td>\n",
       "      <td>0.033075</td>\n",
       "      <td>0.0</td>\n",
       "      <td>0.033075</td>\n",
       "      <td>0.000000</td>\n",
       "    </tr>\n",
       "  </tbody>\n",
       "</table>\n",
       "<p>1309 rows × 9 columns</p>\n",
       "</div>"
      ],
      "text/plain": [
       "             0         1         2         3         4         5    6  \\\n",
       "0     0.004688  0.135941  0.000000  0.000000  0.990684  0.000000  0.0   \n",
       "1     0.006597  0.005937  0.006597  0.013194  0.999787  0.006597  0.0   \n",
       "2     0.006597  0.013194  0.006597  0.013194  0.999761  0.000000  0.0   \n",
       "3     0.006472  0.194154  0.006472  0.012944  0.980800  0.006472  0.0   \n",
       "4     0.006510  0.162738  0.006510  0.013019  0.986519  0.000000  0.0   \n",
       "...        ...       ...       ...       ...       ...       ...  ...   \n",
       "1304  0.144833  0.700024  0.048278  0.000000  0.697610  0.000000  0.0   \n",
       "1305  0.094736  0.884200  0.031579  0.000000  0.456310  0.000000  0.0   \n",
       "1306  0.108499  0.958408  0.000000  0.000000  0.261483  0.036166  0.0   \n",
       "1307  0.106649  0.959844  0.000000  0.000000  0.257025  0.035550  0.0   \n",
       "1308  0.099226  0.959185  0.000000  0.000000  0.260634  0.033075  0.0   \n",
       "\n",
       "             7         8  \n",
       "0     0.004688  0.004688  \n",
       "1     0.006597  0.006597  \n",
       "2     0.006597  0.000000  \n",
       "3     0.006472  0.000000  \n",
       "4     0.006510  0.000000  \n",
       "...        ...       ...  \n",
       "1304  0.000000  0.000000  \n",
       "1305  0.000000  0.000000  \n",
       "1306  0.000000  0.000000  \n",
       "1307  0.000000  0.000000  \n",
       "1308  0.033075  0.000000  \n",
       "\n",
       "[1309 rows x 9 columns]"
      ]
     },
     "execution_count": 55,
     "metadata": {},
     "output_type": "execute_result"
    }
   ],
   "source": [
    "pd.DataFrame(data_fs_nr)"
   ]
  },
  {
   "cell_type": "code",
   "execution_count": null,
   "id": "ad9b2d47",
   "metadata": {},
   "outputs": [],
   "source": []
  },
  {
   "cell_type": "code",
   "execution_count": null,
   "id": "739db72b",
   "metadata": {},
   "outputs": [],
   "source": []
  },
  {
   "cell_type": "code",
   "execution_count": null,
   "id": "cf702e11",
   "metadata": {},
   "outputs": [],
   "source": []
  },
  {
   "cell_type": "code",
   "execution_count": null,
   "id": "426a6088",
   "metadata": {},
   "outputs": [],
   "source": []
  },
  {
   "cell_type": "code",
   "execution_count": 27,
   "id": "6f06ab82",
   "metadata": {},
   "outputs": [],
   "source": [
    "my_data = sns.load_dataset('titanic')"
   ]
  },
  {
   "cell_type": "code",
   "execution_count": 28,
   "id": "9315a256",
   "metadata": {},
   "outputs": [
    {
     "data": {
      "text/plain": [
       "survived         0\n",
       "pclass           0\n",
       "sex              0\n",
       "age            177\n",
       "sibsp            0\n",
       "parch            0\n",
       "fare             0\n",
       "embarked         2\n",
       "class            0\n",
       "who              0\n",
       "adult_male       0\n",
       "deck           688\n",
       "embark_town      2\n",
       "alive            0\n",
       "alone            0\n",
       "dtype: int64"
      ]
     },
     "execution_count": 28,
     "metadata": {},
     "output_type": "execute_result"
    }
   ],
   "source": [
    "my_data.isnull().sum()"
   ]
  },
  {
   "cell_type": "code",
   "execution_count": 29,
   "id": "344b313b",
   "metadata": {},
   "outputs": [],
   "source": [
    "my_data = my_data.drop(['deck'], axis = 1)"
   ]
  },
  {
   "cell_type": "code",
   "execution_count": 30,
   "id": "fec4ce1a",
   "metadata": {},
   "outputs": [
    {
     "data": {
      "text/plain": [
       "<AxesSubplot:xlabel='age'>"
      ]
     },
     "execution_count": 30,
     "metadata": {},
     "output_type": "execute_result"
    },
    {
     "data": {
      "image/png": "[encoded data removed]",
      "text/plain": [
       "<Figure size 432x288 with 1 Axes>"
      ]
     },
     "metadata": {
      "needs_background": "light"
     },
     "output_type": "display_data"
    }
   ],
   "source": [
    "sns.boxplot(x = 'age', data = my_data)"
   ]
  },
  {
   "cell_type": "code",
   "execution_count": 31,
   "id": "d7269477",
   "metadata": {},
   "outputs": [
    {
     "data": {
      "text/plain": [
       "24.00    30\n",
       "22.00    27\n",
       "18.00    26\n",
       "28.00    25\n",
       "19.00    25\n",
       "         ..\n",
       "55.50     1\n",
       "74.00     1\n",
       "0.92      1\n",
       "70.50     1\n",
       "12.00     1\n",
       "Name: age, Length: 88, dtype: int64"
      ]
     },
     "execution_count": 31,
     "metadata": {},
     "output_type": "execute_result"
    }
   ],
   "source": [
    "my_data['age'].value_counts()"
   ]
  },
  {
   "cell_type": "code",
   "execution_count": 32,
   "id": "92c503bd",
   "metadata": {},
   "outputs": [],
   "source": [
    "my_data['age'] = my_data['age'].fillna(my_data['age'].median())\n"
   ]
  },
  {
   "cell_type": "code",
   "execution_count": 33,
   "id": "234ad89b",
   "metadata": {},
   "outputs": [
    {
     "data": {
      "text/plain": [
       "S    644\n",
       "C    168\n",
       "Q     77\n",
       "Name: embarked, dtype: int64"
      ]
     },
     "execution_count": 33,
     "metadata": {},
     "output_type": "execute_result"
    }
   ],
   "source": [
    "my_data['embarked'].value_counts()"
   ]
  },
  {
   "cell_type": "code",
   "execution_count": 34,
   "id": "3de5f7f3",
   "metadata": {},
   "outputs": [],
   "source": [
    "my_data['embarked'] = my_data['embarked'].fillna(\"S\")"
   ]
  },
  {
   "cell_type": "code",
   "execution_count": 35,
   "id": "c6012500",
   "metadata": {},
   "outputs": [
    {
     "data": {
      "text/plain": [
       "Southampton    644\n",
       "Cherbourg      168\n",
       "Queenstown      77\n",
       "Name: embark_town, dtype: int64"
      ]
     },
     "execution_count": 35,
     "metadata": {},
     "output_type": "execute_result"
    }
   ],
   "source": [
    "my_data['embark_town'].value_counts()"
   ]
  },
  {
   "cell_type": "code",
   "execution_count": 36,
   "id": "0e42b6bf",
   "metadata": {},
   "outputs": [],
   "source": [
    "my_data['embark_town'] = my_data['embark_town'].fillna(\"Southampton\")"
   ]
  },
  {
   "cell_type": "code",
   "execution_count": 37,
   "id": "e6d8f597",
   "metadata": {},
   "outputs": [
    {
     "data": {
      "text/plain": [
       "survived       0\n",
       "pclass         0\n",
       "sex            0\n",
       "age            0\n",
       "sibsp          0\n",
       "parch          0\n",
       "fare           0\n",
       "embarked       0\n",
       "class          0\n",
       "who            0\n",
       "adult_male     0\n",
       "embark_town    0\n",
       "alive          0\n",
       "alone          0\n",
       "dtype: int64"
      ]
     },
     "execution_count": 37,
     "metadata": {},
     "output_type": "execute_result"
    }
   ],
   "source": [
    "my_data.isnull().sum()"
   ]
  },
  {
   "cell_type": "code",
   "execution_count": 38,
   "id": "3e3a3f25",
   "metadata": {},
   "outputs": [
    {
     "name": "stdout",
     "output_type": "stream",
     "text": [
      "<class 'pandas.core.frame.DataFrame'>\n",
      "RangeIndex: 1309 entries, 0 to 1308\n",
      "Data columns (total 12 columns):\n",
      " #   Column      Non-Null Count  Dtype  \n",
      "---  ------      --------------  -----  \n",
      " 0   Pclass      1309 non-null   int64  \n",
      " 1   Age         1309 non-null   float64\n",
      " 2   SibSp       1309 non-null   int64  \n",
      " 3   ParCh       1309 non-null   int64  \n",
      " 4   Fare        1309 non-null   float64\n",
      " 5   Gender_0    1309 non-null   uint8  \n",
      " 6   Gender_1    1309 non-null   uint8  \n",
      " 7   Embarked_0  1309 non-null   uint8  \n",
      " 8   Embarked_1  1309 non-null   uint8  \n",
      " 9   Embarked_2  1309 non-null   uint8  \n",
      " 10  Status_0    1309 non-null   uint8  \n",
      " 11  Status_1    1309 non-null   uint8  \n",
      "dtypes: float64(2), int64(3), uint8(7)\n",
      "memory usage: 60.2 KB\n"
     ]
    }
   ],
   "source": [
    "data.info()"
   ]
  },
  {
   "cell_type": "code",
   "execution_count": null,
   "id": "6effd152",
   "metadata": {},
   "outputs": [],
   "source": []
  },
  {
   "cell_type": "code",
   "execution_count": null,
   "id": "e2d8a778",
   "metadata": {},
   "outputs": [],
   "source": []
  },
  {
   "cell_type": "code",
   "execution_count": null,
   "id": "fe0c230d",
   "metadata": {},
   "outputs": [],
   "source": []
  }
 ],
 "metadata": {
  "kernelspec": {
   "display_name": "Python 3",
   "language": "python",
   "name": "python3"
  },
  "language_info": {
   "codemirror_mode": {
    "name": "ipython",
    "version": 3
   },
   "file_extension": ".py",
   "mimetype": "text/x-python",
   "name": "python",
   "nbconvert_exporter": "python",
   "pygments_lexer": "ipython3",
   "version": "3.8.8"
  }
 },
 "nbformat": 4,
 "nbformat_minor": 5
}
