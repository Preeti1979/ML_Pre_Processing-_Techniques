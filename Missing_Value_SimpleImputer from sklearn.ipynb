{
 "cells": [
  {
   "cell_type": "code",
   "execution_count": 1,
   "id": "19b92269",
   "metadata": {},
   "outputs": [],
   "source": [
    "import os # os - operating system\n",
    "os.getcwd() # get current working directory\n",
    "import pandas as pd\n",
    "import numpy as np\n",
    "import matplotlib.pyplot as plt\n",
    "import seaborn as sns\n",
    "%matplotlib inline "
   ]
  },
  {
   "cell_type": "code",
   "execution_count": 2,
   "id": "ca2b3a20",
   "metadata": {},
   "outputs": [],
   "source": [
    "data = pd.read_excel('Employee_Data.xls')"
   ]
  },
  {
   "cell_type": "code",
   "execution_count": 3,
   "id": "cf2f5af0",
   "metadata": {},
   "outputs": [
    {
     "data": {
      "text/html": [
       "<div>\n",
       "<style scoped>\n",
       "    .dataframe tbody tr th:only-of-type {\n",
       "        vertical-align: middle;\n",
       "    }\n",
       "\n",
       "    .dataframe tbody tr th {\n",
       "        vertical-align: top;\n",
       "    }\n",
       "\n",
       "    .dataframe thead th {\n",
       "        text-align: right;\n",
       "    }\n",
       "</style>\n",
       "<table border=\"1\" class=\"dataframe\">\n",
       "  <thead>\n",
       "    <tr style=\"text-align: right;\">\n",
       "      <th></th>\n",
       "      <th>Employee Id</th>\n",
       "      <th>First Name</th>\n",
       "      <th>Last Name</th>\n",
       "      <th>Department</th>\n",
       "      <th>Age</th>\n",
       "      <th>Experience</th>\n",
       "      <th>Salary</th>\n",
       "    </tr>\n",
       "  </thead>\n",
       "  <tbody>\n",
       "    <tr>\n",
       "      <th>0</th>\n",
       "      <td>1</td>\n",
       "      <td>Joy</td>\n",
       "      <td>Bass</td>\n",
       "      <td>Sales and Marketing</td>\n",
       "      <td>28.0</td>\n",
       "      <td>3.0</td>\n",
       "      <td>32889</td>\n",
       "    </tr>\n",
       "    <tr>\n",
       "      <th>1</th>\n",
       "      <td>2</td>\n",
       "      <td>Sheila</td>\n",
       "      <td>Garza</td>\n",
       "      <td>Sales and Marketing</td>\n",
       "      <td>22.0</td>\n",
       "      <td>1.0</td>\n",
       "      <td>15944</td>\n",
       "    </tr>\n",
       "    <tr>\n",
       "      <th>2</th>\n",
       "      <td>3</td>\n",
       "      <td>John</td>\n",
       "      <td>Bryant</td>\n",
       "      <td>Customer Relations</td>\n",
       "      <td>22.0</td>\n",
       "      <td>1.0</td>\n",
       "      <td>40343</td>\n",
       "    </tr>\n",
       "    <tr>\n",
       "      <th>3</th>\n",
       "      <td>4</td>\n",
       "      <td>Christian</td>\n",
       "      <td>Farley</td>\n",
       "      <td>Customer Relations</td>\n",
       "      <td>22.0</td>\n",
       "      <td>1.0</td>\n",
       "      <td>19018</td>\n",
       "    </tr>\n",
       "    <tr>\n",
       "      <th>4</th>\n",
       "      <td>5</td>\n",
       "      <td>Colorado</td>\n",
       "      <td>Bowen</td>\n",
       "      <td>Accounting</td>\n",
       "      <td>27.0</td>\n",
       "      <td>0.0</td>\n",
       "      <td>24795</td>\n",
       "    </tr>\n",
       "    <tr>\n",
       "      <th>5</th>\n",
       "      <td>6</td>\n",
       "      <td>Elijah</td>\n",
       "      <td>Matthews</td>\n",
       "      <td>Accounting</td>\n",
       "      <td>26.0</td>\n",
       "      <td>5.0</td>\n",
       "      <td>15387</td>\n",
       "    </tr>\n",
       "    <tr>\n",
       "      <th>6</th>\n",
       "      <td>7</td>\n",
       "      <td>Bo</td>\n",
       "      <td>Mcleod</td>\n",
       "      <td>Customer Relations</td>\n",
       "      <td>24.0</td>\n",
       "      <td>6.0</td>\n",
       "      <td>34117</td>\n",
       "    </tr>\n",
       "    <tr>\n",
       "      <th>7</th>\n",
       "      <td>8</td>\n",
       "      <td>Zena</td>\n",
       "      <td>Melendez</td>\n",
       "      <td>Customer Relations</td>\n",
       "      <td>29.0</td>\n",
       "      <td>2.0</td>\n",
       "      <td>16099</td>\n",
       "    </tr>\n",
       "    <tr>\n",
       "      <th>8</th>\n",
       "      <td>9</td>\n",
       "      <td>Tucker</td>\n",
       "      <td>Michael</td>\n",
       "      <td>Sales and Marketing</td>\n",
       "      <td>29.0</td>\n",
       "      <td>5.0</td>\n",
       "      <td>42105</td>\n",
       "    </tr>\n",
       "    <tr>\n",
       "      <th>9</th>\n",
       "      <td>10</td>\n",
       "      <td>Lucas</td>\n",
       "      <td>Rowe</td>\n",
       "      <td>Customer Relations</td>\n",
       "      <td>30.0</td>\n",
       "      <td>6.0</td>\n",
       "      <td>11891</td>\n",
       "    </tr>\n",
       "  </tbody>\n",
       "</table>\n",
       "</div>"
      ],
      "text/plain": [
       "   Employee Id First Name Last Name           Department   Age  Experience  \\\n",
       "0            1        Joy      Bass  Sales and Marketing  28.0         3.0   \n",
       "1            2     Sheila     Garza  Sales and Marketing  22.0         1.0   \n",
       "2            3       John    Bryant   Customer Relations  22.0         1.0   \n",
       "3            4  Christian    Farley   Customer Relations  22.0         1.0   \n",
       "4            5   Colorado     Bowen           Accounting  27.0         0.0   \n",
       "5            6     Elijah  Matthews           Accounting  26.0         5.0   \n",
       "6            7         Bo    Mcleod   Customer Relations  24.0         6.0   \n",
       "7            8       Zena  Melendez   Customer Relations  29.0         2.0   \n",
       "8            9     Tucker   Michael  Sales and Marketing  29.0         5.0   \n",
       "9           10      Lucas      Rowe   Customer Relations  30.0         6.0   \n",
       "\n",
       "   Salary  \n",
       "0   32889  \n",
       "1   15944  \n",
       "2   40343  \n",
       "3   19018  \n",
       "4   24795  \n",
       "5   15387  \n",
       "6   34117  \n",
       "7   16099  \n",
       "8   42105  \n",
       "9   11891  "
      ]
     },
     "execution_count": 3,
     "metadata": {},
     "output_type": "execute_result"
    }
   ],
   "source": [
    "data.head(10)"
   ]
  },
  {
   "cell_type": "code",
   "execution_count": 4,
   "id": "ad8d502c",
   "metadata": {},
   "outputs": [
    {
     "data": {
      "text/plain": [
       "(100, 7)"
      ]
     },
     "execution_count": 4,
     "metadata": {},
     "output_type": "execute_result"
    }
   ],
   "source": [
    "data.shape"
   ]
  },
  {
   "cell_type": "code",
   "execution_count": 5,
   "id": "ba4decdf",
   "metadata": {},
   "outputs": [
    {
     "data": {
      "text/plain": [
       "Index(['Employee Id', 'First Name', 'Last Name', 'Department', 'Age',\n",
       "       'Experience', 'Salary'],\n",
       "      dtype='object')"
      ]
     },
     "execution_count": 5,
     "metadata": {},
     "output_type": "execute_result"
    }
   ],
   "source": [
    "data.columns"
   ]
  },
  {
   "cell_type": "code",
   "execution_count": null,
   "id": "33130087",
   "metadata": {},
   "outputs": [],
   "source": [
    "# Splitting data in independent and dependent variable\n",
    "# converting the dataframe after slicing in array to perform calculations later.\n",
    "# we can do calculations on array not DF\n",
    "# when we use python package sklearn to impute missing value we use data in array form - SimpleImputer"
   ]
  },
  {
   "cell_type": "code",
   "execution_count": 6,
   "id": "64c0ab2a",
   "metadata": {},
   "outputs": [
    {
     "data": {
      "text/plain": [
       "array([['Sales and Marketing', 28.0, 3.0],\n",
       "       ['Sales and Marketing', 22.0, 1.0],\n",
       "       ['Customer Relations', 22.0, 1.0],\n",
       "       ['Customer Relations', 22.0, 1.0],\n",
       "       ['Accounting', 27.0, 0.0],\n",
       "       ['Accounting', 26.0, 5.0],\n",
       "       ['Customer Relations', 24.0, 6.0],\n",
       "       ['Customer Relations', 29.0, 2.0],\n",
       "       ['Sales and Marketing', 29.0, 5.0],\n",
       "       ['Customer Relations', 30.0, 6.0],\n",
       "       ['Accounting', 26.0, 5.0],\n",
       "       ['Sales and Marketing', 26.0, 6.0],\n",
       "       ['Accounting', 24.0, 5.0],\n",
       "       ['Accounting', 22.0, 2.0],\n",
       "       ['Sales and Marketing', 25.0, 3.0],\n",
       "       ['Accounting', 25.0, nan],\n",
       "       ['Customer Relations', 22.0, nan],\n",
       "       ['Accounting', 25.0, nan],\n",
       "       ['Accounting', 27.0, nan],\n",
       "       [nan, 25.0, nan],\n",
       "       [nan, 22.0, nan],\n",
       "       [nan, 22.0, nan],\n",
       "       [nan, 24.0, nan],\n",
       "       [nan, 27.0, nan],\n",
       "       [nan, 22.0, nan],\n",
       "       [nan, 33.0, 13.0],\n",
       "       [nan, 36.0, 7.0],\n",
       "       [nan, 35.0, 10.0],\n",
       "       [nan, 33.0, 12.0],\n",
       "       [nan, 30.0, 14.0],\n",
       "       [nan, 40.0, 15.0],\n",
       "       [nan, 39.0, 12.0],\n",
       "       [nan, nan, 9.0],\n",
       "       [nan, nan, 7.0],\n",
       "       [nan, nan, 15.0],\n",
       "       [nan, nan, 11.0],\n",
       "       [nan, nan, 10.0],\n",
       "       [nan, nan, 7.0],\n",
       "       ['Sales and Marketing', nan, 13.0],\n",
       "       ['Sales and Marketing', nan, 9.0],\n",
       "       ['Customer Relations', nan, 8.0],\n",
       "       ['Accounting', nan, 12.0],\n",
       "       ['Accounting', nan, 9.0],\n",
       "       ['Sales and Marketing', nan, 12.0],\n",
       "       ['Sales and Marketing', nan, 15.0],\n",
       "       ['Customer Relations', nan, 14.0],\n",
       "       ['Sales and Marketing', nan, 10.0],\n",
       "       ['Customer Relations', nan, 8.0],\n",
       "       ['Customer Relations', nan, 12.0],\n",
       "       ['Customer Relations', nan, 15.0],\n",
       "       ['Sales and Marketing', 38.0, 14.0],\n",
       "       ['Accounting', 41.0, 25.0],\n",
       "       ['Customer Relations', 44.0, 17.0],\n",
       "       ['Accounting', 41.0, 17.0],\n",
       "       ['Sales and Marketing', 50.0, 21.0],\n",
       "       ['Sales and Marketing', 47.0, 19.0],\n",
       "       ['Accounting', 43.0, 25.0],\n",
       "       ['Customer Relations', 48.0, 25.0],\n",
       "       ['Accounting', 46.0, 22.0],\n",
       "       ['Customer Relations', 44.0, 16.0],\n",
       "       ['Accounting', 42.0, 21.0],\n",
       "       ['Sales and Marketing', 44.0, 19.0],\n",
       "       ['Customer Relations', 49.0, 16.0],\n",
       "       ['Customer Relations', 44.0, 18.0],\n",
       "       ['Sales and Marketing', 49.0, 22.0],\n",
       "       ['Accounting', 44.0, 17.0],\n",
       "       ['Sales and Marketing', 48.0, 16.0],\n",
       "       ['Customer Relations', 47.0, 23.0],\n",
       "       ['Customer Relations', 50.0, 22.0],\n",
       "       ['Sales and Marketing', 42.0, 19.0],\n",
       "       ['Accounting', 48.0, 19.0],\n",
       "       ['Customer Relations', 46.0, 24.0],\n",
       "       ['Sales and Marketing', 42.0, 23.0],\n",
       "       ['Sales and Marketing', 45.0, 22.0],\n",
       "       ['Customer Relations', 48.0, 17.0],\n",
       "       ['Sales and Marketing', 41.0, 23.0],\n",
       "       ['Sales and Marketing', 49.0, 19.0],\n",
       "       ['Sales and Marketing', 41.0, 22.0],\n",
       "       ['Sales and Marketing', 42.0, 24.0],\n",
       "       ['Accounting', 41.0, 22.0],\n",
       "       ['Accounting', 45.0, 21.0],\n",
       "       ['Customer Relations', 43.0, 16.0],\n",
       "       ['Accounting', 46.0, 18.0],\n",
       "       ['Sales and Marketing', 47.0, 20.0],\n",
       "       ['Accounting', 45.0, 17.0],\n",
       "       ['Sales and Marketing', 42.0, 17.0],\n",
       "       ['Sales and Marketing', 44.0, 21.0],\n",
       "       ['Accounting', 45.0, 19.0],\n",
       "       ['Accounting', 44.0, 21.0],\n",
       "       ['Customer Relations', 47.0, 20.0],\n",
       "       ['Sales and Marketing', 44.0, 19.0],\n",
       "       ['Accounting', 44.0, 18.0],\n",
       "       ['Sales and Marketing', 41.0, 17.0],\n",
       "       ['Accounting', 48.0, 21.0],\n",
       "       ['Accounting', 48.0, 22.0],\n",
       "       ['Sales and Marketing', 47.0, 22.0],\n",
       "       ['Sales and Marketing', 46.0, 20.0],\n",
       "       ['Customer Relations', 44.0, 18.0],\n",
       "       ['Customer Relations', 47.0, 22.0],\n",
       "       ['Accounting', 44.0, 21.0]], dtype=object)"
      ]
     },
     "execution_count": 6,
     "metadata": {},
     "output_type": "execute_result"
    }
   ],
   "source": [
    "x = data.iloc[ : , 3:6].values\n",
    "x\n"
   ]
  },
  {
   "cell_type": "code",
   "execution_count": 7,
   "id": "8fbaa395",
   "metadata": {},
   "outputs": [
    {
     "data": {
      "text/html": [
       "<div>\n",
       "<style scoped>\n",
       "    .dataframe tbody tr th:only-of-type {\n",
       "        vertical-align: middle;\n",
       "    }\n",
       "\n",
       "    .dataframe tbody tr th {\n",
       "        vertical-align: top;\n",
       "    }\n",
       "\n",
       "    .dataframe thead th {\n",
       "        text-align: right;\n",
       "    }\n",
       "</style>\n",
       "<table border=\"1\" class=\"dataframe\">\n",
       "  <thead>\n",
       "    <tr style=\"text-align: right;\">\n",
       "      <th></th>\n",
       "      <th>Salary</th>\n",
       "    </tr>\n",
       "  </thead>\n",
       "  <tbody>\n",
       "    <tr>\n",
       "      <th>0</th>\n",
       "      <td>32889</td>\n",
       "    </tr>\n",
       "    <tr>\n",
       "      <th>1</th>\n",
       "      <td>15944</td>\n",
       "    </tr>\n",
       "    <tr>\n",
       "      <th>2</th>\n",
       "      <td>40343</td>\n",
       "    </tr>\n",
       "    <tr>\n",
       "      <th>3</th>\n",
       "      <td>19018</td>\n",
       "    </tr>\n",
       "    <tr>\n",
       "      <th>4</th>\n",
       "      <td>24795</td>\n",
       "    </tr>\n",
       "    <tr>\n",
       "      <th>...</th>\n",
       "      <td>...</td>\n",
       "    </tr>\n",
       "    <tr>\n",
       "      <th>95</th>\n",
       "      <td>79077</td>\n",
       "    </tr>\n",
       "    <tr>\n",
       "      <th>96</th>\n",
       "      <td>81187</td>\n",
       "    </tr>\n",
       "    <tr>\n",
       "      <th>97</th>\n",
       "      <td>83847</td>\n",
       "    </tr>\n",
       "    <tr>\n",
       "      <th>98</th>\n",
       "      <td>89158</td>\n",
       "    </tr>\n",
       "    <tr>\n",
       "      <th>99</th>\n",
       "      <td>91645</td>\n",
       "    </tr>\n",
       "  </tbody>\n",
       "</table>\n",
       "<p>100 rows × 1 columns</p>\n",
       "</div>"
      ],
      "text/plain": [
       "    Salary\n",
       "0    32889\n",
       "1    15944\n",
       "2    40343\n",
       "3    19018\n",
       "4    24795\n",
       "..     ...\n",
       "95   79077\n",
       "96   81187\n",
       "97   83847\n",
       "98   89158\n",
       "99   91645\n",
       "\n",
       "[100 rows x 1 columns]"
      ]
     },
     "execution_count": 7,
     "metadata": {},
     "output_type": "execute_result"
    }
   ],
   "source": [
    "y = data.iloc[ : ,6:]\n",
    "y"
   ]
  },
  {
   "cell_type": "code",
   "execution_count": 9,
   "id": "d47a6c48",
   "metadata": {},
   "outputs": [
    {
     "data": {
      "text/plain": [
       "0    19\n",
       "1    18\n",
       "2    10\n",
       "dtype: int64"
      ]
     },
     "execution_count": 9,
     "metadata": {},
     "output_type": "execute_result"
    }
   ],
   "source": [
    "# Checking missing values. Need to convert X to dataframe to use pandas funcction\n",
    "pd.DataFrame(x).isnull().sum()"
   ]
  },
  {
   "cell_type": "code",
   "execution_count": 11,
   "id": "e7336d74",
   "metadata": {},
   "outputs": [
    {
     "data": {
      "text/plain": [
       "0    0.19\n",
       "1    0.18\n",
       "2    0.10\n",
       "dtype: float64"
      ]
     },
     "execution_count": 11,
     "metadata": {},
     "output_type": "execute_result"
    }
   ],
   "source": [
    "# Checking % of missing values. if more than 25% we may ignore than column\n",
    "pd.DataFrame(x).isnull().sum()/len(pd.DataFrame(x))"
   ]
  },
  {
   "cell_type": "code",
   "execution_count": 23,
   "id": "fba01204",
   "metadata": {},
   "outputs": [
    {
     "data": {
      "text/plain": [
       "array(['Sales and Marketing', 'Sales and Marketing', 'Customer Relations',\n",
       "       'Customer Relations', 'Accounting', 'Accounting',\n",
       "       'Customer Relations', 'Customer Relations', 'Sales and Marketing',\n",
       "       'Customer Relations', 'Accounting', 'Sales and Marketing',\n",
       "       'Accounting', 'Accounting', 'Sales and Marketing', 'Accounting',\n",
       "       'Customer Relations', 'Accounting', 'Accounting', nan, nan, nan,\n",
       "       nan, nan, nan, nan, nan, nan, nan, nan, nan, nan, nan, nan, nan,\n",
       "       nan, nan, nan, 'Sales and Marketing', 'Sales and Marketing',\n",
       "       'Customer Relations', 'Accounting', 'Accounting',\n",
       "       'Sales and Marketing', 'Sales and Marketing', 'Customer Relations',\n",
       "       'Sales and Marketing', 'Customer Relations', 'Customer Relations',\n",
       "       'Customer Relations', 'Sales and Marketing', 'Accounting',\n",
       "       'Customer Relations', 'Accounting', 'Sales and Marketing',\n",
       "       'Sales and Marketing', 'Accounting', 'Customer Relations',\n",
       "       'Accounting', 'Customer Relations', 'Accounting',\n",
       "       'Sales and Marketing', 'Customer Relations', 'Customer Relations',\n",
       "       'Sales and Marketing', 'Accounting', 'Sales and Marketing',\n",
       "       'Customer Relations', 'Customer Relations', 'Sales and Marketing',\n",
       "       'Accounting', 'Customer Relations', 'Sales and Marketing',\n",
       "       'Sales and Marketing', 'Customer Relations', 'Sales and Marketing',\n",
       "       'Sales and Marketing', 'Sales and Marketing',\n",
       "       'Sales and Marketing', 'Accounting', 'Accounting',\n",
       "       'Customer Relations', 'Accounting', 'Sales and Marketing',\n",
       "       'Accounting', 'Sales and Marketing', 'Sales and Marketing',\n",
       "       'Accounting', 'Accounting', 'Customer Relations',\n",
       "       'Sales and Marketing', 'Accounting', 'Sales and Marketing',\n",
       "       'Accounting', 'Accounting', 'Sales and Marketing',\n",
       "       'Sales and Marketing', 'Customer Relations', 'Customer Relations',\n",
       "       'Accounting'], dtype=object)"
      ]
     },
     "execution_count": 23,
     "metadata": {},
     "output_type": "execute_result"
    }
   ],
   "source": [
    "x[ :,0]"
   ]
  },
  {
   "cell_type": "code",
   "execution_count": null,
   "id": "e8c98d87",
   "metadata": {},
   "outputs": [],
   "source": [
    "# using SimpleImputer from Sklearn to impute missing value \n",
    "# note while giving array for column write start and end x[: ,0:1]- all rows and one column\n",
    "# otherwise you will get error to reshape data"
   ]
  },
  {
   "cell_type": "code",
   "execution_count": 17,
   "id": "af8c4f60",
   "metadata": {},
   "outputs": [],
   "source": [
    "from sklearn.impute import SimpleImputer"
   ]
  },
  {
   "cell_type": "code",
   "execution_count": 25,
   "id": "82fb8ed4",
   "metadata": {},
   "outputs": [],
   "source": [
    "impute = SimpleImputer(strategy=\"most_frequent\")\n",
    "x[:,0:1] = impute.fit_transform(x[:,0:1])"
   ]
  },
  {
   "cell_type": "code",
   "execution_count": 27,
   "id": "44f1c16c",
   "metadata": {},
   "outputs": [
    {
     "data": {
      "text/plain": [
       "0     0\n",
       "1    18\n",
       "2    10\n",
       "dtype: int64"
      ]
     },
     "execution_count": 27,
     "metadata": {},
     "output_type": "execute_result"
    }
   ],
   "source": [
    "pd.DataFrame(x).isnull().sum()"
   ]
  },
  {
   "cell_type": "code",
   "execution_count": 28,
   "id": "91a21a33",
   "metadata": {},
   "outputs": [],
   "source": [
    "# using SimpleImputer from Sklearn to impute missing value in numbers with mean\n",
    "impute_num = SimpleImputer(strategy=\"mean\")\n",
    "x[:,1:3] = impute_num.fit_transform(x[:,1:3])"
   ]
  },
  {
   "cell_type": "code",
   "execution_count": 29,
   "id": "1b29cd5d",
   "metadata": {},
   "outputs": [
    {
     "data": {
      "text/plain": [
       "0    0\n",
       "1    0\n",
       "2    0\n",
       "dtype: int64"
      ]
     },
     "execution_count": 29,
     "metadata": {},
     "output_type": "execute_result"
    }
   ],
   "source": [
    "pd.DataFrame(x).isnull().sum()"
   ]
  },
  {
   "cell_type": "code",
   "execution_count": null,
   "id": "2c8df380",
   "metadata": {},
   "outputs": [],
   "source": []
  },
  {
   "cell_type": "code",
   "execution_count": null,
   "id": "a042361a",
   "metadata": {},
   "outputs": [],
   "source": []
  }
 ],
 "metadata": {
  "kernelspec": {
   "display_name": "Python 3",
   "language": "python",
   "name": "python3"
  },
  "language_info": {
   "codemirror_mode": {
    "name": "ipython",
    "version": 3
   },
   "file_extension": ".py",
   "mimetype": "text/x-python",
   "name": "python",
   "nbconvert_exporter": "python",
   "pygments_lexer": "ipython3",
   "version": "3.8.8"
  }
 },
 "nbformat": 4,
 "nbformat_minor": 5
}
